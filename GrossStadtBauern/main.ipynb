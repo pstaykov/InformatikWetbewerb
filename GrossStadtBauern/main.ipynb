{
 "cells": [
  {
   "cell_type": "markdown",
   "id": "8aa5269d",
   "metadata": {},
   "source": [
    "# Großstadtbauern"
   ]
  },
  {
   "cell_type": "markdown",
   "id": "e93c4eda",
   "metadata": {},
   "source": [
    "## File I/O und Datenstruktur\n",
    "für die Datenstruktur eignet sich eine liste aus listen aus listen.\n",
    "- Liste 1: Der Kalendar\n",
    "- Liste 2: Der Monat\n",
    "- Liste 3: Die Anlage"
   ]
  },
  {
   "cell_type": "markdown",
   "id": "05a0c964",
   "metadata": {},
   "source": [
    "### File I/O"
   ]
  },
  {
   "cell_type": "code",
   "execution_count": 4,
   "id": "49a016dd",
   "metadata": {},
   "outputs": [
    {
     "name": "stdout",
     "output_type": "stream",
     "text": [
      "Anzahl Zutaten: 4\n",
      "Zutaten: ['Kartoffel', 'Zwiebel', 'Möhre', 'Reis']\n",
      "Anzahl Wünsche: 4\n",
      "Wünsche: ['Kartoffel Zwiebel Möhre', 'Kartoffel Zwiebel Reis', 'Kartoffel Möhre Reis', 'Zwiebel Möhre Reis']\n"
     ]
    }
   ],
   "source": [
    "def read_wishlist(filename):\n",
    "    with open(filename, \"r\", encoding=\"utf-8\") as f:\n",
    "        lines = [line.strip() for line in f if line.strip()]\n",
    "\n",
    "    n_zutaten = int(lines[0])\n",
    "    zutaten = lines[1:1 + n_zutaten]\n",
    "    n_wuensche = int(lines[1 + n_zutaten])\n",
    "    wuensche = lines[2 + n_zutaten : 2 + n_zutaten + n_wuensche]\n",
    "\n",
    "    return n_zutaten, zutaten, n_wuensche, wuensche\n",
    "\n",
    "n_zutaten, zutaten, n_wuensche, wuensche = read_wishlist(r\"Inputs/bauern1.txt\")\n",
    "\n",
    "print(\"Anzahl Zutaten:\", n_zutaten)\n",
    "print(\"Zutaten:\", zutaten)\n",
    "print(\"Anzahl Wünsche:\", n_wuensche)\n",
    "print(\"Wünsche:\", wuensche)\n"
   ]
  },
  {
   "cell_type": "markdown",
   "id": "198042ad",
   "metadata": {},
   "source": [
    "### Datenstruktur des Kalendars"
   ]
  },
  {
   "cell_type": "code",
   "execution_count": null,
   "id": "d42efcda",
   "metadata": {},
   "outputs": [
    {
     "name": "stdout",
     "output_type": "stream",
     "text": [
      "Kalenderstruktur: [[[], [], []], [[], [], []], [[], [], []], [[], [], []], [[], [], []], [[], [], []], [[], [], []], [[], [], []], [[], [], []], [[], [], []], [[], [], []], [[], [], []]]\n"
     ]
    }
   ],
   "source": [
    "kalender = [[[],[],[]] for _ in range(12)]  # 12 Monate"
   ]
  },
  {
   "cell_type": "markdown",
   "id": "94425c8f",
   "metadata": {},
   "source": [
    "## Hauptlogik\n",
    "### finden der rezepte\n",
    "wir finden die rezepte indem wir in jedem Monat gucken ob die Zutaten der 3 Anlagen zu den Zutaten im rezept korrespondieren und das für alle rezepte"
   ]
  },
  {
   "cell_type": "code",
   "execution_count": null,
   "id": "0b34bda5",
   "metadata": {},
   "outputs": [],
   "source": [
    "def finde_rezepte(kalender, wuensche):\n",
    "    gefundene_rezepte = []\n",
    "    for monat in range(12):\n",
    "        anlagen_zutaten = []\n",
    "        for anlage in range(3):\n",
    "            anlagen_zutaten.append(set(kalender[monat][anlage]))\n",
    "        for rezept in wuensche:\n",
    "            rezept_zutaten = set(rezept.split(\", \"))\n",
    "            if all(any(zutat in rezept_zutaten for zutat in anlagen_zutaten[anlage]) for anlage in range(3)):\n",
    "                gefundene_rezepte.append((monat + 1, rezept))\n",
    "    return gefundene_rezepte"
   ]
  },
  {
   "cell_type": "markdown",
   "id": "5ed029f9",
   "metadata": {},
   "source": [
    "### alle Möglichen Kalender simulieren\n",
    "wir setzen zutaten in den Kalender so wie es möglich ist\n",
    "unsere Regeln sind:\n",
    "- 3 Zutaten folgen aufeinander (geht weil -1 fängt wieder hinten an --> so wie in einem Jahr)\n",
    "- nicht 2 geliche Zutaten in einem Monat\n",
    "#### Backtracking pseudo\n",
    "finde alle kalendare:\n",
    "    für monat im Jahr\n",
    "        für anlage in anlagen:\n",
    "            für zutat in zutat:\n",
    "                füge zutat in anlage ein wenn kalendar noch gültig ist\n",
    "                "
   ]
  },
  {
   "cell_type": "code",
   "execution_count": null,
   "id": "644a7874",
   "metadata": {},
   "outputs": [],
   "source": [
    "def find_calendars(zutaten):\n",
    "    calendars = []\n",
    "    current_calendar = [[[], [], []] for _ in range(12)]\n",
    "    \n",
    "    "
   ]
  }
 ],
 "metadata": {
  "kernelspec": {
   "display_name": "Python 3",
   "language": "python",
   "name": "python3"
  },
  "language_info": {
   "codemirror_mode": {
    "name": "ipython",
    "version": 3
   },
   "file_extension": ".py",
   "mimetype": "text/x-python",
   "name": "python",
   "nbconvert_exporter": "python",
   "pygments_lexer": "ipython3",
   "version": "3.11.9"
  }
 },
 "nbformat": 4,
 "nbformat_minor": 5
}
