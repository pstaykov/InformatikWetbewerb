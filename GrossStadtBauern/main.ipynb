{
 "cells": [
  {
   "cell_type": "markdown",
   "id": "8aa5269d",
   "metadata": {},
   "source": [
    "# Großstadtbauern"
   ]
  },
  {
   "cell_type": "markdown",
   "id": "e93c4eda",
   "metadata": {},
   "source": [
    "## File I/O und Datenstruktur\n",
    "für die Datenstruktur eignet sich eine liste aus listen aus listen.\n",
    "- Liste 1: Der Kalendar\n",
    "- Liste 2: Der Monat\n",
    "- Liste 3: Die Anlage"
   ]
  },
  {
   "cell_type": "markdown",
   "id": "05a0c964",
   "metadata": {},
   "source": [
    "### File I/O"
   ]
  },
  {
   "cell_type": "code",
   "execution_count": null,
   "id": "49a016dd",
   "metadata": {},
   "outputs": [
    {
     "name": "stdout",
     "output_type": "stream",
     "text": [
      "Anzahl Zutaten: 4\n",
      "Zutaten: ['Kartoffel', 'Zwiebel', 'Möhre', 'Reis']\n",
      "Anzahl Wünsche: 4\n",
      "Wünsche: ['Kartoffel Zwiebel Möhre', 'Kartoffel Zwiebel Reis', 'Kartoffel Möhre Reis', 'Zwiebel Möhre Reis']\n"
     ]
    }
   ],
   "source": [
    "def read_wishlist(filename):\n",
    "    with open(filename, \"r\", encoding=\"utf-8\") as f:\n",
    "        lines = [line.strip() for line in f if line.strip()]\n",
    "\n",
    "    n_zutaten = int(lines[0])\n",
    "    zutaten = lines[1:1 + n_zutaten]\n",
    "    n_wuensche = int(lines[1 + n_zutaten])\n",
    "    wuensche = lines[2 + n_zutaten : 2 + n_zutaten + n_wuensche]\n",
    "\n",
    "    return n_zutaten, zutaten, n_wuensche, wuensche\n",
    "\n",
    "n_zutaten, zutaten, n_wuensche, wuensche = read_wishlist(r\"Inputs/bauern1.txt\")\n",
    "\n",
    "print(\"Anzahl Zutaten:\", n_zutaten)\n",
    "print(\"Zutaten:\", zutaten)\n",
    "print(\"Anzahl Wünsche:\", n_wuensche)\n",
    "print(\"Wünsche:\", wuensche)\n"
   ]
  },
  {
   "cell_type": "markdown",
   "id": "198042ad",
   "metadata": {},
   "source": [
    "### Datenstruktur des Kalendars"
   ]
  },
  {
   "cell_type": "code",
   "execution_count": null,
   "id": "d42efcda",
   "metadata": {},
   "outputs": [],
   "source": [
    "kalender = [[[],[],[]] for _ in range(12)]  # 12 Monate"
   ]
  },
  {
   "cell_type": "markdown",
   "id": "94425c8f",
   "metadata": {},
   "source": [
    "## Hauptlogik\n",
    "### finden der rezepte\n",
    "wir finden die rezepte indem wir in jedem Monat gucken ob die Zutaten der 3 Anlagen zu den Zutaten im rezept korrespondieren und das für alle rezepte"
   ]
  },
  {
   "cell_type": "code",
   "execution_count": null,
   "id": "0b34bda5",
   "metadata": {},
   "outputs": [],
   "source": [
    "def finde_rezepte(kalender, wuensche):\n",
    "    gefundene_rezepte = []\n",
    "    for monat in range(12):\n",
    "        anlagen_zutaten = []\n",
    "        for anlage in range(3):\n",
    "            anlagen_zutaten.append(set(kalender[monat][anlage]))\n",
    "        for rezept in wuensche:\n",
    "            rezept_zutaten = set(rezept.split(\", \"))\n",
    "            if all(any(zutat in rezept_zutaten for zutat in anlagen_zutaten[anlage]) for anlage in range(3)):\n",
    "                gefundene_rezepte.append((monat + 1, rezept))\n",
    "    return gefundene_rezepte"
   ]
  },
  {
   "cell_type": "markdown",
   "id": "5ed029f9",
   "metadata": {},
   "source": [
    "### alle Möglichen Kalender simulieren\n",
    "wir setzen zutaten in den Kalender so wie es möglich ist\n",
    "unsere Regeln sind:\n",
    "- 3 Zutaten folgen aufeinander (geht weil -1 fängt wieder hinten an --> so wie in einem Jahr)\n",
    "- nicht 2 geliche Zutaten in einem Monat\n",
    "\n",
    "wir tuen das mithilfe von backtracking\n",
    "\n",
    "wir brauchen folgende funktion um den algorythmus zum funktionieren zu bringen:\n",
    "- ist kalendar gültig?\n",
    "\n",
    "                "
   ]
  },
  {
   "cell_type": "code",
   "execution_count": null,
   "id": "644a7874",
   "metadata": {},
   "outputs": [],
   "source": [
    "def ist_kalendar_gueltig(kalendar):\n",
    "    for i, monat in enumerate(kalendar):\n",
    "        erste = monat[0]\n",
    "        # gibt es gleiche zutaten\n",
    "        for anlage in monat:\n",
    "            if anlage == erste:\n",
    "                return False\n",
    "        # sind sie in einer 3er reihe          \n",
    "        for zutat in monat:\n",
    "            gleiche = 0\n",
    "            for current_month in range(2):\n",
    "                if kalendar[current_month][zutat] == zutat: # zukunft\n",
    "                    gleiche += 1\n",
    "                elif kalendar[-current_month][zutat]: # vergangenheit\n",
    "                    gleiche += 1\n",
    "                else:\n",
    "                    break\n",
    "            if gleiche != 2:\n",
    "                return False\n",
    "    return True  "
   ]
  },
  {
   "cell_type": "markdown",
   "id": "8bd04801",
   "metadata": {},
   "source": [
    "### Backtracking"
   ]
  },
  {
   "cell_type": "code",
   "execution_count": null,
   "id": "ffa672b4",
   "metadata": {},
   "outputs": [],
   "source": [
    "def finde_alle_kalender(kalendar, zutaten, monat=0):\n",
    "    if monat == 12:\n",
    "        if ist_kalendar_gueltig(kalendar):\n",
    "            return [kalendar]\n",
    "    \n",
    "    alle_kalender = []\n",
    "    for zutat1 in zutaten:\n",
    "        for zutat2 in zutaten:\n",
    "            for zutat3 in zutaten:\n",
    "                kalendar[monat] = [zutat1, zutat2, zutat3]\n",
    "                alle_kalender.extend(finde_alle_kalender(kalendar, zutaten, monat + 1))\n",
    "    return alle_kalender"
   ]
  },
  {
   "cell_type": "markdown",
   "id": "ec32ff74",
   "metadata": {},
   "source": [
    "## Hauptlogik\n",
    "\n",
    "gucken welcher kalendar die meisten loesungen hat "
   ]
  },
  {
   "cell_type": "code",
   "execution_count": null,
   "id": "b35aee8d",
   "metadata": {},
   "outputs": [],
   "source": [
    "alle_kalender = finde_alle_kalender(kalender, zutaten)\n",
    "max_loesungen = 0\n",
    "for kalendar in alle_kalender:\n",
    "    for monat in kalendar:\n",
    "        if monat in wuensche:\n",
    "            max_loesungen += 1\n",
    "    print(\"Kalendar:\", kalendar, \"hat\", max_loesungen, \"Lösungen\")\n",
    "\n",
    "print(\"Maximale Anzahl an Lösungen:\", max_loesungen)\n",
    "            \n",
    "\n"
   ]
  }
 ],
 "metadata": {
  "kernelspec": {
   "display_name": "Python 3",
   "language": "python",
   "name": "python3"
  },
  "language_info": {
   "codemirror_mode": {
    "name": "ipython",
    "version": 3
   },
   "file_extension": ".py",
   "mimetype": "text/x-python",
   "name": "python",
   "nbconvert_exporter": "python",
   "pygments_lexer": "ipython3",
   "version": "3.13.3"
  }
 },
 "nbformat": 4,
 "nbformat_minor": 5
}
