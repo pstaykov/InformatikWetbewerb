{
 "cells": [
  {
   "cell_type": "markdown",
   "id": "8aa5269d",
   "metadata": {},
   "source": [
    "# Großstadtbauern"
   ]
  },
  {
   "cell_type": "markdown",
   "id": "e93c4eda",
   "metadata": {},
   "source": [
    "## File I/O und Datenstruktur\n",
    "für die Datenstruktur eignet sich eine liste aus listen aus listen.\n",
    "- Liste 1: Der Kalendar\n",
    "- Liste 2: Der Monat\n",
    "- Liste 3: Die Anlage"
   ]
  },
  {
   "cell_type": "code",
   "execution_count": null,
   "id": "49a016dd",
   "metadata": {},
   "outputs": [],
   "source": [
    "def read_wishlist(filename):\n",
    "    with open(filename, \"r\", encoding=\"utf-8\") as f:\n",
    "        lines = [line.strip() for line in f if line.strip()]\n",
    "\n",
    "    n_zutaten = int(lines[0])\n",
    "    zutaten = lines[1:1 + n_zutaten]\n",
    "    n_wuensche = int(lines[1 + n_zutaten])\n",
    "    wuensche = lines[2 + n_zutaten : 2 + n_zutaten + n_wuensche]\n",
    "\n",
    "    return n_zutaten, zutaten, n_wuensche, wuensche\n",
    "\n",
    "n_zutaten, zutaten, n_wuensche, wuensche = read_wishlist(r\"BWINF/InformatikWetbewerb/GrossStadtBauern/Inputs/bauern1.txt\")\n",
    "\n",
    "print(\"Anzahl Zutaten:\", n_zutaten)\n",
    "print(\"Zutaten:\", zutaten)\n",
    "print(\"Anzahl Wünsche:\", n_wuensche)\n",
    "print(\"Wünsche:\", wuensche)\n"
   ]
  }
 ],
 "metadata": {
  "kernelspec": {
   "display_name": "venv (3.13.5)",
   "language": "python",
   "name": "python3"
  },
  "language_info": {
   "name": "python",
   "version": "3.13.5"
  }
 },
 "nbformat": 4,
 "nbformat_minor": 5
}
