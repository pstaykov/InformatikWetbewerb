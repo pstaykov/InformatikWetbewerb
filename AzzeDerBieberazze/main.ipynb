{
 "cells": [
  {
   "cell_type": "markdown",
   "id": "5a5d4e3f",
   "metadata": {},
   "source": [
    "# Bibertomograph"
   ]
  },
  {
   "cell_type": "markdown",
   "id": "d2d7a158",
   "metadata": {},
   "source": [
    "## File I/O\n",
    "read the file vairables and declare them test phase only for the first file"
   ]
  },
  {
   "cell_type": "code",
   "execution_count": 22,
   "id": "ee98a4c5",
   "metadata": {},
   "outputs": [],
   "source": [
    "def read_tomograph(filename):\n",
    "    with open(filename, \"r\") as f:\n",
    "        lines = [line.strip() for line in f.readlines() if line.strip()]\n",
    "    \n",
    "    n = int(lines[0])  # Größe n x n\n",
    "    cols = list(map(int, lines[1].split()))\n",
    "    rows = list(map(int, lines[2].split()))\n",
    "    blue_diagonals = list(map(int, lines[3].split()))\n",
    "    yellow_diagonals = list(map(int, lines[4].split()))\n",
    "    \n",
    "    return n, cols, rows, blue_diagonals, yellow_diagonals\n",
    "\n",
    "size, cols, rows, blue_diagonals, yellow_diagonals = read_tomograph(r\"eingaben\\tomograph00.txt\")"
   ]
  },
  {
   "cell_type": "markdown",
   "id": "fd8387ff",
   "metadata": {},
   "source": [
    "## Rules for filling\n",
    "- wenn 0 alle felder streichen\n",
    "- wenn horizontal oder veritkal so gross wie breite des quadrats alle fuellen\n",
    "- Wenn ein Row oder Column mit 1 schon einen hat, dann streichen wir den Rest\n",
    "- Wenn in einer Diagonal, Row oder Column nur die anzahl der Sichtbaren frei ist, dann diese füllen"
   ]
  },
  {
   "cell_type": "markdown",
   "id": "f9862bf9",
   "metadata": {},
   "source": [
    "### check for 0\n",
    "#### diagonals: \n",
    "For an 𝑛 × 𝑛 grid:\n",
    "- Diagonal index d runs from 0 to 2n-2\n",
    "- The main diagonal (center) corresponds to d = n - 1\n",
    "- The mathematical condition for blue diagonals: i−j=d−(n−1)"
   ]
  },
  {
   "cell_type": "code",
   "execution_count": null,
   "id": "38e37778",
   "metadata": {},
   "outputs": [
    {
     "data": {
      "image/png": "[encoded data removed]",
      "text/plain": [
       "<Figure size 640x480 with 1 Axes>"
      ]
     },
     "metadata": {},
     "output_type": "display_data"
    }
   ],
   "source": [
    "import numpy as np\n",
    "import matplotlib.pyplot as plt\n",
    "\n",
    "grid = np.zeros((size, size), dtype=int)\n",
    "\n",
    "# check columns and rows for 0\n",
    "for j, col in enumerate(cols):  \n",
    "    if col == 0:\n",
    "        grid[:, j] = -1  \n",
    "\n",
    "for i, row in enumerate(rows):\n",
    "    if row == 0:\n",
    "        grid[i, :] = -1\n",
    "\n",
    "# check diagonals for 0\n",
    "for d, diagonal in enumerate(blue_diagonals):\n",
    "    if diagonal == 0:\n",
    "        for i in range(size):\n",
    "            for j in range(size):\n",
    "                if i - j == d - (size - 1):\n",
    "                    grid[i, j] = -1\n",
    "\n",
    "for d, diagonal in enumerate(yellow_diagonals):\n",
    "    if diagonal == 0:\n",
    "        for i in range(size):\n",
    "            for j in range(size):\n",
    "                if i + j == d:  \n",
    "                    grid[i, j] = -1\n",
    "\n",
    "# show grid\n",
    "plt.imshow(grid, cmap=\"gray\", interpolation=\"nearest\")\n",
    "plt.show()\n"
   ]
  },
  {
   "cell_type": "markdown",
   "id": "c8f2e8c0",
   "metadata": {},
   "source": [
    "### check for filled rows/columns/diagonals\n",
    "if the amount of 1 in the element equals the lengt of the element minus the amount of -1 in the element fill every field"
   ]
  },
  {
   "cell_type": "code",
   "execution_count": 47,
   "id": "2eeba694",
   "metadata": {},
   "outputs": [
    {
     "data": {
      "image/png": "[encoded data removed]",
      "text/plain": [
       "<Figure size 640x480 with 1 Axes>"
      ]
     },
     "metadata": {},
     "output_type": "display_data"
    }
   ],
   "source": [
    "# check columns and rows for full\n",
    "import math as m\n",
    "for i, col in enumerate(cols):  \n",
    "    filled = np.sum(grid[:, i] == 1)\n",
    "    blocked = np.sum(grid[:, i] == -1)\n",
    "    if filled == col:\n",
    "        grid[grid[:, i] == 0, i] = -1\n",
    "    elif blocked == size - col:\n",
    "        grid[grid[:, i] == 0, i] = 1\n",
    "\n",
    "for j, row in enumerate(rows):  \n",
    "    filled = np.sum(grid[j, :] == 1)\n",
    "    blocked = np.sum(grid[j, :] == -1)\n",
    "    if filled == row:\n",
    "        grid[j, grid[j, :] == 0] = -1\n",
    "    elif blocked == size - row:\n",
    "        grid[j, grid[j, :] == 0] = 1\n",
    "\n",
    "# check diagonals for only 1 needed\n",
    "for d, diagonal in enumerate(blue_diagonals):\n",
    "    size_of_diagonal = d + 1 if d < size else 2 * size - d -1\n",
    "    current = [np.sum(grid[i, j] == 1) for i in range(size) for j in range(size) if i - j == d - (size - 1)]\n",
    "    if diagonal == size_of_diagonal + np.sum(current):\n",
    "        for i in range(size):\n",
    "            for j in range(size):\n",
    "                if i - j == d - (size - 1) and grid[i, j] == 0:\n",
    "                    grid[i, j] = 1\n",
    "    # if diagonal equals negative of current, all others are blocked\n",
    "    elif diagonal == -np.sum(current):\n",
    "        for i in range(size):\n",
    "            for j in range(size):\n",
    "                if i - j == d - (size - 1) and grid[i, j] == 0:\n",
    "                    grid[i, j] = -1\n",
    "for d, diagonal in enumerate(yellow_diagonals):\n",
    "    if diagonal == 0:\n",
    "        for i in range(size):\n",
    "            for j in range(size):\n",
    "                if i + j == d:  \n",
    "                    grid[i, j] = -1\n",
    "\n",
    "# show grid\n",
    "plt.imshow(grid, cmap=\"gray\", interpolation=\"nearest\")\n",
    "plt.show()\n"
   ]
  },
  {
   "cell_type": "markdown",
   "id": "a07f21d2",
   "metadata": {},
   "source": [
    "# debugging"
   ]
  },
  {
   "cell_type": "code",
   "execution_count": 42,
   "id": "07744bf8",
   "metadata": {},
   "outputs": [
    {
     "name": "stdout",
     "output_type": "stream",
     "text": [
      "1 0\n",
      "2 0\n",
      "3 1\n",
      "4 3\n",
      "5 2\n",
      "6 3\n",
      "7 3\n",
      "8 1\n",
      "7 2\n",
      "6 3\n",
      "5 1\n",
      "4 2\n",
      "3 0\n",
      "2 1\n",
      "1 0\n"
     ]
    }
   ],
   "source": [
    "for d, diagonal in enumerate(blue_diagonals):\n",
    "    print(d + 1 if d < size else 2 * size - d -1, diagonal)"
   ]
  }
 ],
 "metadata": {
  "kernelspec": {
   "display_name": "Python 3",
   "language": "python",
   "name": "python3"
  },
  "language_info": {
   "codemirror_mode": {
    "name": "ipython",
    "version": 3
   },
   "file_extension": ".py",
   "mimetype": "text/x-python",
   "name": "python",
   "nbconvert_exporter": "python",
   "pygments_lexer": "ipython3",
   "version": "3.11.0"
  }
 },
 "nbformat": 4,
 "nbformat_minor": 5
}
